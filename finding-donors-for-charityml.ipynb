{
 "cells": [
  {
   "cell_type": "markdown",
   "id": "2848dc35",
   "metadata": {
    "papermill": {
     "duration": 0.028861,
     "end_time": "2022-04-16T16:10:43.677320",
     "exception": false,
     "start_time": "2022-04-16T16:10:43.648459",
     "status": "completed"
    },
    "tags": []
   },
   "source": [
    "## Supervised Learning\n",
    "## Project: Finding Donors for *CharityML*"
   ]
  },
  {
   "cell_type": "markdown",
   "id": "a3c04ec5",
   "metadata": {
    "papermill": {
     "duration": 0.02693,
     "end_time": "2022-04-16T16:10:43.731554",
     "exception": false,
     "start_time": "2022-04-16T16:10:43.704624",
     "status": "completed"
    },
    "tags": []
   },
   "source": [
    "## Getting Started\n",
    "\n",
    "In this project, I will employ several supervised algorithms of my choice to accurately model individuals' income using data collected from the 1994 U.S. Census. I will then choose the best candidate algorithm from preliminary results and further optimize this algorithm to best model the data. My goal with this implementation is to construct a model that accurately predicts whether an individual makes more than $50,000. This sort of task can arise in a non-profit setting, where organizations survive on donations.  Understanding an individual's income can help a non-profit better understand how large of a donation to request, or whether or not they should reach out to begin with.  While it can be difficult to determine an individual's general income bracket directly from public sources, we can (as we will see) infer this value from other publically available features.\n",
    "\n",
    "The dataset for this project originates from the [UCI Machine Learning Repository](https://archive.ics.uci.edu/ml/datasets/Census+Income). The datset was donated by Ron Kohavi and Barry Becker, after being published in the article _\"Scaling Up the Accuracy of Naive-Bayes Classifiers: A Decision-Tree Hybrid\"_. You can find the article by Ron Kohavi [online](https://www.aaai.org/Papers/KDD/1996/KDD96-033.pdf).\n"
   ]
  },
  {
   "cell_type": "markdown",
   "id": "c06c45da",
   "metadata": {
    "papermill": {
     "duration": 0.028203,
     "end_time": "2022-04-16T16:10:43.786816",
     "exception": false,
     "start_time": "2022-04-16T16:10:43.758613",
     "status": "completed"
    },
    "tags": []
   },
   "source": [
    "----\n",
    "## Exploring the Data\n",
    "The last column from this dataset, `'income'`, will be our target label (whether an individual makes more than, or at most, $50,000 annually). All other columns are features about each individual in the census database."
   ]
  },
  {
   "cell_type": "code",
   "execution_count": 1,
   "id": "b3a26b39",
   "metadata": {
    "execution": {
     "iopub.execute_input": "2022-04-16T16:10:43.846626Z",
     "iopub.status.busy": "2022-04-16T16:10:43.845438Z",
     "iopub.status.idle": "2022-04-16T16:10:45.978957Z",
     "shell.execute_reply": "2022-04-16T16:10:45.979524Z"
    },
    "papermill": {
     "duration": 2.164803,
     "end_time": "2022-04-16T16:10:45.979886",
     "exception": false,
     "start_time": "2022-04-16T16:10:43.815083",
     "status": "completed"
    },
    "tags": []
   },
   "outputs": [
    {
     "data": {
      "text/html": [
       "<div>\n",
       "<style scoped>\n",
       "    .dataframe tbody tr th:only-of-type {\n",
       "        vertical-align: middle;\n",
       "    }\n",
       "\n",
       "    .dataframe tbody tr th {\n",
       "        vertical-align: top;\n",
       "    }\n",
       "\n",
       "    .dataframe thead th {\n",
       "        text-align: right;\n",
       "    }\n",
       "</style>\n",
       "<table border=\"1\" class=\"dataframe\">\n",
       "  <thead>\n",
       "    <tr style=\"text-align: right;\">\n",
       "      <th></th>\n",
       "      <th>age</th>\n",
       "      <th>workclass</th>\n",
       "      <th>education_level</th>\n",
       "      <th>education-num</th>\n",
       "      <th>marital-status</th>\n",
       "      <th>occupation</th>\n",
       "      <th>relationship</th>\n",
       "      <th>race</th>\n",
       "      <th>sex</th>\n",
       "      <th>capital-gain</th>\n",
       "      <th>capital-loss</th>\n",
       "      <th>hours-per-week</th>\n",
       "      <th>native-country</th>\n",
       "      <th>income</th>\n",
       "    </tr>\n",
       "  </thead>\n",
       "  <tbody>\n",
       "    <tr>\n",
       "      <th>0</th>\n",
       "      <td>39</td>\n",
       "      <td>State-gov</td>\n",
       "      <td>Bachelors</td>\n",
       "      <td>13.0</td>\n",
       "      <td>Never-married</td>\n",
       "      <td>Adm-clerical</td>\n",
       "      <td>Not-in-family</td>\n",
       "      <td>White</td>\n",
       "      <td>Male</td>\n",
       "      <td>2174.0</td>\n",
       "      <td>0.0</td>\n",
       "      <td>40.0</td>\n",
       "      <td>United-States</td>\n",
       "      <td>&lt;=50K</td>\n",
       "    </tr>\n",
       "  </tbody>\n",
       "</table>\n",
       "</div>"
      ],
      "text/plain": [
       "   age   workclass education_level  education-num  marital-status  \\\n",
       "0   39   State-gov       Bachelors           13.0   Never-married   \n",
       "\n",
       "      occupation    relationship    race    sex  capital-gain  capital-loss  \\\n",
       "0   Adm-clerical   Not-in-family   White   Male        2174.0           0.0   \n",
       "\n",
       "   hours-per-week  native-country income  \n",
       "0            40.0   United-States  <=50K  "
      ]
     },
     "metadata": {},
     "output_type": "display_data"
    }
   ],
   "source": [
    "# Import libraries necessary for this project\n",
    "import numpy as np\n",
    "import pandas as pd\n",
    "from time import time\n",
    "from IPython.display import display # Allows the use of display() for DataFrames\n",
    "\n",
    "# Importing supplementary visualization code visuals.py\n",
    "!ln -s ../input/visuals/visuals.py visuals.py\n",
    "import visuals as vs\n",
    "\n",
    "# Pretty display for notebooks\n",
    "%matplotlib inline\n",
    "\n",
    "# Loading the Census dataset\n",
    "data = pd.read_csv(\"../input/census/census.csv\")\n",
    "\n",
    "# Success - Displaying the first record\n",
    "display(data.head(n=1))"
   ]
  },
  {
   "cell_type": "markdown",
   "id": "74cd9078",
   "metadata": {
    "papermill": {
     "duration": 0.027536,
     "end_time": "2022-04-16T16:10:46.037988",
     "exception": false,
     "start_time": "2022-04-16T16:10:46.010452",
     "status": "completed"
    },
    "tags": []
   },
   "source": [
    "### Data Exploration\n",
    "A cursory investigation of the dataset will determine how many individuals fit into either group, and will tell us about the percentage of these individuals making more than \\$50,000. In the code cell below, I will compute the following:\n",
    "- The total number of records, `'n_records'`\n",
    "- The number of individuals making more than \\$50,000 annually, `'n_greater_50k'`.\n",
    "- The number of individuals making at most \\$50,000 annually, `'n_at_most_50k'`.\n",
    "- The percentage of individuals making more than \\$50,000 annually, `'greater_percent'`. "
   ]
  },
  {
   "cell_type": "code",
   "execution_count": 2,
   "id": "57b2cad7",
   "metadata": {
    "execution": {
     "iopub.execute_input": "2022-04-16T16:10:46.099248Z",
     "iopub.status.busy": "2022-04-16T16:10:46.098512Z",
     "iopub.status.idle": "2022-04-16T16:10:46.136918Z",
     "shell.execute_reply": "2022-04-16T16:10:46.137630Z"
    },
    "papermill": {
     "duration": 0.070043,
     "end_time": "2022-04-16T16:10:46.137899",
     "exception": false,
     "start_time": "2022-04-16T16:10:46.067856",
     "status": "completed"
    },
    "tags": []
   },
   "outputs": [
    {
     "name": "stdout",
     "output_type": "stream",
     "text": [
      "Total number of records: 45222\n",
      "Individuals making more than $50,000: 11208\n",
      "Individuals making at most $50,000: 34014\n",
      "Percentage of individuals making more than $50,000: 24.78439697492371%\n"
     ]
    }
   ],
   "source": [
    "# Total number of records\n",
    "n_records = data.shape[0]\n",
    "\n",
    "# Number of records where individual's income is more than $50,000\n",
    "n_greater_50k = data[data['income'] == '>50K'].shape[0]\n",
    "\n",
    "# Number of records where individual's income is at most $50,000\n",
    "n_at_most_50k = data[data['income'] == '<=50K'].shape[0]\n",
    "\n",
    "# Percentage of individuals whose income is more than $50,000\n",
    "greater_percent = (n_greater_50k / n_records) * 100\n",
    "\n",
    "# Printing the results\n",
    "print(\"Total number of records: {}\".format(n_records))\n",
    "print(\"Individuals making more than $50,000: {}\".format(n_greater_50k))\n",
    "print(\"Individuals making at most $50,000: {}\".format(n_at_most_50k))\n",
    "print(\"Percentage of individuals making more than $50,000: {}%\".format(greater_percent))"
   ]
  },
  {
   "cell_type": "markdown",
   "id": "5e117dec",
   "metadata": {
    "papermill": {
     "duration": 0.029928,
     "end_time": "2022-04-16T16:10:46.198498",
     "exception": false,
     "start_time": "2022-04-16T16:10:46.168570",
     "status": "completed"
    },
    "tags": []
   },
   "source": [
    "** Featureset Exploration **\n",
    "\n",
    "* **age**: continuous. \n",
    "* **workclass**: Private, Self-emp-not-inc, Self-emp-inc, Federal-gov, Local-gov, State-gov, Without-pay, Never-worked. \n",
    "* **education**: Bachelors, Some-college, 11th, HS-grad, Prof-school, Assoc-acdm, Assoc-voc, 9th, 7th-8th, 12th, Masters, 1st-4th, 10th, Doctorate, 5th-6th, Preschool. \n",
    "* **education-num**: continuous. \n",
    "* **marital-status**: Married-civ-spouse, Divorced, Never-married, Separated, Widowed, Married-spouse-absent, Married-AF-spouse. \n",
    "* **occupation**: Tech-support, Craft-repair, Other-service, Sales, Exec-managerial, Prof-specialty, Handlers-cleaners, Machine-op-inspct, Adm-clerical, Farming-fishing, Transport-moving, Priv-house-serv, Protective-serv, Armed-Forces. \n",
    "* **relationship**: Wife, Own-child, Husband, Not-in-family, Other-relative, Unmarried. \n",
    "* **race**: Black, White, Asian-Pac-Islander, Amer-Indian-Eskimo, Other. \n",
    "* **sex**: Female, Male. \n",
    "* **capital-gain**: continuous. \n",
    "* **capital-loss**: continuous. \n",
    "* **hours-per-week**: continuous. \n",
    "* **native-country**: United-States, Cambodia, England, Puerto-Rico, Canada, Germany, Outlying-US(Guam-USVI-etc), India, Japan, Greece, South, China, Cuba, Iran, Honduras, Philippines, Italy, Poland, Jamaica, Vietnam, Mexico, Portugal, Ireland, France, Dominican-Republic, Laos, Ecuador, Taiwan, Haiti, Columbia, Hungary, Guatemala, Nicaragua, Scotland, Thailand, Yugoslavia, El-Salvador, Trinadad&Tobago, Peru, Hong, Holand-Netherlands."
   ]
  },
  {
   "cell_type": "markdown",
   "id": "afee8de8",
   "metadata": {
    "papermill": {
     "duration": 0.029453,
     "end_time": "2022-04-16T16:10:46.258982",
     "exception": false,
     "start_time": "2022-04-16T16:10:46.229529",
     "status": "completed"
    },
    "tags": []
   },
   "source": [
    "----\n",
    "## Preparing the Data"
   ]
  },
  {
   "cell_type": "markdown",
   "id": "821f3e41",
   "metadata": {
    "papermill": {
     "duration": 0.030263,
     "end_time": "2022-04-16T16:10:46.318455",
     "exception": false,
     "start_time": "2022-04-16T16:10:46.288192",
     "status": "completed"
    },
    "tags": []
   },
   "source": [
    "### Transforming Skewed Continuous Features"
   ]
  },
  {
   "cell_type": "code",
   "execution_count": 3,
   "id": "15d75080",
   "metadata": {
    "execution": {
     "iopub.execute_input": "2022-04-16T16:10:46.380393Z",
     "iopub.status.busy": "2022-04-16T16:10:46.379542Z",
     "iopub.status.idle": "2022-04-16T16:10:46.986257Z",
     "shell.execute_reply": "2022-04-16T16:10:46.985592Z"
    },
    "papermill": {
     "duration": 0.639601,
     "end_time": "2022-04-16T16:10:46.986411",
     "exception": false,
     "start_time": "2022-04-16T16:10:46.346810",
     "status": "completed"
    },
    "tags": []
   },
   "outputs": [
    {
     "data": {
      "image/png": "[encoded data removed]",
      "text/plain": [
       "<Figure size 792x360 with 2 Axes>"
      ]
     },
     "metadata": {
      "needs_background": "light"
     },
     "output_type": "display_data"
    }
   ],
   "source": [
    "# Splitting the data into features and target label\n",
    "income_raw = data['income']\n",
    "features_raw = data.drop('income', axis = 1)\n",
    "\n",
    "# Visualizing skewed continuous features of original data\n",
    "vs.distribution(data)"
   ]
  },
  {
   "cell_type": "markdown",
   "id": "859c8681",
   "metadata": {
    "papermill": {
     "duration": 0.029089,
     "end_time": "2022-04-16T16:10:47.045606",
     "exception": false,
     "start_time": "2022-04-16T16:10:47.016517",
     "status": "completed"
    },
    "tags": []
   },
   "source": [
    "For highly-skewed feature distributions such as `'capital-gain'` and `'capital-loss'`, it is common practice to apply a <a href=\"https://en.wikipedia.org/wiki/Data_transformation_(statistics)\">logarithmic transformation</a> on the data so that the very large and very small values do not negatively affect the performance of a learning algorithm. Using a logarithmic transformation significantly reduces the range of values caused by outliers. Care must be taken when applying this transformation however: The logarithm of `0` is undefined, so we must translate the values by a small amount above `0` to apply the the logarithm successfully."
   ]
  },
  {
   "cell_type": "code",
   "execution_count": 4,
   "id": "ab67b12c",
   "metadata": {
    "execution": {
     "iopub.execute_input": "2022-04-16T16:10:47.117248Z",
     "iopub.status.busy": "2022-04-16T16:10:47.116052Z",
     "iopub.status.idle": "2022-04-16T16:10:47.678256Z",
     "shell.execute_reply": "2022-04-16T16:10:47.677678Z"
    },
    "papermill": {
     "duration": 0.600671,
     "end_time": "2022-04-16T16:10:47.678409",
     "exception": false,
     "start_time": "2022-04-16T16:10:47.077738",
     "status": "completed"
    },
    "tags": []
   },
   "outputs": [
    {
     "data": {
      "image/png": "[encoded data removed]",
      "text/plain": [
       "<Figure size 792x360 with 2 Axes>"
      ]
     },
     "metadata": {
      "needs_background": "light"
     },
     "output_type": "display_data"
    }
   ],
   "source": [
    "# Log-transforming the skewed features\n",
    "skewed = ['capital-gain', 'capital-loss']\n",
    "features_log_transformed = pd.DataFrame(data = features_raw)\n",
    "features_log_transformed[skewed] = features_raw[skewed].apply(lambda x: np.log(x + 1))\n",
    "\n",
    "# Visualizing the new log distributions\n",
    "vs.distribution(features_log_transformed, transformed = True)"
   ]
  },
  {
   "cell_type": "markdown",
   "id": "613eb682",
   "metadata": {
    "papermill": {
     "duration": 0.030646,
     "end_time": "2022-04-16T16:10:47.740781",
     "exception": false,
     "start_time": "2022-04-16T16:10:47.710135",
     "status": "completed"
    },
    "tags": []
   },
   "source": [
    "### Normalizing Numerical Features"
   ]
  },
  {
   "cell_type": "code",
   "execution_count": 5,
   "id": "11f7e330",
   "metadata": {
    "execution": {
     "iopub.execute_input": "2022-04-16T16:10:47.813027Z",
     "iopub.status.busy": "2022-04-16T16:10:47.812310Z",
     "iopub.status.idle": "2022-04-16T16:10:47.836752Z",
     "shell.execute_reply": "2022-04-16T16:10:47.836072Z"
    },
    "papermill": {
     "duration": 0.065917,
     "end_time": "2022-04-16T16:10:47.836898",
     "exception": false,
     "start_time": "2022-04-16T16:10:47.770981",
     "status": "completed"
    },
    "tags": []
   },
   "outputs": [
    {
     "data": {
      "text/html": [
       "<div>\n",
       "<style scoped>\n",
       "    .dataframe tbody tr th:only-of-type {\n",
       "        vertical-align: middle;\n",
       "    }\n",
       "\n",
       "    .dataframe tbody tr th {\n",
       "        vertical-align: top;\n",
       "    }\n",
       "\n",
       "    .dataframe thead th {\n",
       "        text-align: right;\n",
       "    }\n",
       "</style>\n",
       "<table border=\"1\" class=\"dataframe\">\n",
       "  <thead>\n",
       "    <tr style=\"text-align: right;\">\n",
       "      <th></th>\n",
       "      <th>age</th>\n",
       "      <th>workclass</th>\n",
       "      <th>education_level</th>\n",
       "      <th>education-num</th>\n",
       "      <th>marital-status</th>\n",
       "      <th>occupation</th>\n",
       "      <th>relationship</th>\n",
       "      <th>race</th>\n",
       "      <th>sex</th>\n",
       "      <th>capital-gain</th>\n",
       "      <th>capital-loss</th>\n",
       "      <th>hours-per-week</th>\n",
       "      <th>native-country</th>\n",
       "    </tr>\n",
       "  </thead>\n",
       "  <tbody>\n",
       "    <tr>\n",
       "      <th>0</th>\n",
       "      <td>0.301370</td>\n",
       "      <td>State-gov</td>\n",
       "      <td>Bachelors</td>\n",
       "      <td>0.800000</td>\n",
       "      <td>Never-married</td>\n",
       "      <td>Adm-clerical</td>\n",
       "      <td>Not-in-family</td>\n",
       "      <td>White</td>\n",
       "      <td>Male</td>\n",
       "      <td>0.667492</td>\n",
       "      <td>0.0</td>\n",
       "      <td>0.397959</td>\n",
       "      <td>United-States</td>\n",
       "    </tr>\n",
       "    <tr>\n",
       "      <th>1</th>\n",
       "      <td>0.452055</td>\n",
       "      <td>Self-emp-not-inc</td>\n",
       "      <td>Bachelors</td>\n",
       "      <td>0.800000</td>\n",
       "      <td>Married-civ-spouse</td>\n",
       "      <td>Exec-managerial</td>\n",
       "      <td>Husband</td>\n",
       "      <td>White</td>\n",
       "      <td>Male</td>\n",
       "      <td>0.000000</td>\n",
       "      <td>0.0</td>\n",
       "      <td>0.122449</td>\n",
       "      <td>United-States</td>\n",
       "    </tr>\n",
       "    <tr>\n",
       "      <th>2</th>\n",
       "      <td>0.287671</td>\n",
       "      <td>Private</td>\n",
       "      <td>HS-grad</td>\n",
       "      <td>0.533333</td>\n",
       "      <td>Divorced</td>\n",
       "      <td>Handlers-cleaners</td>\n",
       "      <td>Not-in-family</td>\n",
       "      <td>White</td>\n",
       "      <td>Male</td>\n",
       "      <td>0.000000</td>\n",
       "      <td>0.0</td>\n",
       "      <td>0.397959</td>\n",
       "      <td>United-States</td>\n",
       "    </tr>\n",
       "    <tr>\n",
       "      <th>3</th>\n",
       "      <td>0.493151</td>\n",
       "      <td>Private</td>\n",
       "      <td>11th</td>\n",
       "      <td>0.400000</td>\n",
       "      <td>Married-civ-spouse</td>\n",
       "      <td>Handlers-cleaners</td>\n",
       "      <td>Husband</td>\n",
       "      <td>Black</td>\n",
       "      <td>Male</td>\n",
       "      <td>0.000000</td>\n",
       "      <td>0.0</td>\n",
       "      <td>0.397959</td>\n",
       "      <td>United-States</td>\n",
       "    </tr>\n",
       "    <tr>\n",
       "      <th>4</th>\n",
       "      <td>0.150685</td>\n",
       "      <td>Private</td>\n",
       "      <td>Bachelors</td>\n",
       "      <td>0.800000</td>\n",
       "      <td>Married-civ-spouse</td>\n",
       "      <td>Prof-specialty</td>\n",
       "      <td>Wife</td>\n",
       "      <td>Black</td>\n",
       "      <td>Female</td>\n",
       "      <td>0.000000</td>\n",
       "      <td>0.0</td>\n",
       "      <td>0.397959</td>\n",
       "      <td>Cuba</td>\n",
       "    </tr>\n",
       "  </tbody>\n",
       "</table>\n",
       "</div>"
      ],
      "text/plain": [
       "        age          workclass education_level  education-num  \\\n",
       "0  0.301370          State-gov       Bachelors       0.800000   \n",
       "1  0.452055   Self-emp-not-inc       Bachelors       0.800000   \n",
       "2  0.287671            Private         HS-grad       0.533333   \n",
       "3  0.493151            Private            11th       0.400000   \n",
       "4  0.150685            Private       Bachelors       0.800000   \n",
       "\n",
       "        marital-status          occupation    relationship    race      sex  \\\n",
       "0        Never-married        Adm-clerical   Not-in-family   White     Male   \n",
       "1   Married-civ-spouse     Exec-managerial         Husband   White     Male   \n",
       "2             Divorced   Handlers-cleaners   Not-in-family   White     Male   \n",
       "3   Married-civ-spouse   Handlers-cleaners         Husband   Black     Male   \n",
       "4   Married-civ-spouse      Prof-specialty            Wife   Black   Female   \n",
       "\n",
       "   capital-gain  capital-loss  hours-per-week  native-country  \n",
       "0      0.667492           0.0        0.397959   United-States  \n",
       "1      0.000000           0.0        0.122449   United-States  \n",
       "2      0.000000           0.0        0.397959   United-States  \n",
       "3      0.000000           0.0        0.397959   United-States  \n",
       "4      0.000000           0.0        0.397959            Cuba  "
      ]
     },
     "metadata": {},
     "output_type": "display_data"
    }
   ],
   "source": [
    "# Importing sklearn.preprocessing.StandardScaler\n",
    "from sklearn.preprocessing import MinMaxScaler\n",
    "\n",
    "# Initializing a scaler, then applying it to the features\n",
    "scaler = MinMaxScaler() # default=(0, 1)\n",
    "numerical = ['age', 'education-num', 'capital-gain', 'capital-loss', 'hours-per-week']\n",
    "\n",
    "features_log_minmax_transform = pd.DataFrame(data = features_log_transformed)\n",
    "features_log_minmax_transform[numerical] = scaler.fit_transform(features_log_transformed[numerical])\n",
    "\n",
    "# Showing an example of a record with scaling applied\n",
    "display(features_log_minmax_transform.head(n = 5))"
   ]
  },
  {
   "cell_type": "markdown",
   "id": "d9d45278",
   "metadata": {
    "papermill": {
     "duration": 0.031041,
     "end_time": "2022-04-16T16:10:47.899469",
     "exception": false,
     "start_time": "2022-04-16T16:10:47.868428",
     "status": "completed"
    },
    "tags": []
   },
   "source": [
    "### Data Preprocessing"
   ]
  },
  {
   "cell_type": "code",
   "execution_count": 6,
   "id": "eaad484b",
   "metadata": {
    "execution": {
     "iopub.execute_input": "2022-04-16T16:10:47.971610Z",
     "iopub.status.busy": "2022-04-16T16:10:47.970911Z",
     "iopub.status.idle": "2022-04-16T16:10:48.067532Z",
     "shell.execute_reply": "2022-04-16T16:10:48.068168Z"
    },
    "papermill": {
     "duration": 0.13734,
     "end_time": "2022-04-16T16:10:48.068354",
     "exception": false,
     "start_time": "2022-04-16T16:10:47.931014",
     "status": "completed"
    },
    "scrolled": true,
    "tags": []
   },
   "outputs": [
    {
     "name": "stdout",
     "output_type": "stream",
     "text": [
      "103 total features after one-hot encoding.\n",
      "['age', 'education-num', 'capital-gain', 'capital-loss', 'hours-per-week', 'workclass_ Federal-gov', 'workclass_ Local-gov', 'workclass_ Private', 'workclass_ Self-emp-inc', 'workclass_ Self-emp-not-inc', 'workclass_ State-gov', 'workclass_ Without-pay', 'education_level_ 10th', 'education_level_ 11th', 'education_level_ 12th', 'education_level_ 1st-4th', 'education_level_ 5th-6th', 'education_level_ 7th-8th', 'education_level_ 9th', 'education_level_ Assoc-acdm', 'education_level_ Assoc-voc', 'education_level_ Bachelors', 'education_level_ Doctorate', 'education_level_ HS-grad', 'education_level_ Masters', 'education_level_ Preschool', 'education_level_ Prof-school', 'education_level_ Some-college', 'marital-status_ Divorced', 'marital-status_ Married-AF-spouse', 'marital-status_ Married-civ-spouse', 'marital-status_ Married-spouse-absent', 'marital-status_ Never-married', 'marital-status_ Separated', 'marital-status_ Widowed', 'occupation_ Adm-clerical', 'occupation_ Armed-Forces', 'occupation_ Craft-repair', 'occupation_ Exec-managerial', 'occupation_ Farming-fishing', 'occupation_ Handlers-cleaners', 'occupation_ Machine-op-inspct', 'occupation_ Other-service', 'occupation_ Priv-house-serv', 'occupation_ Prof-specialty', 'occupation_ Protective-serv', 'occupation_ Sales', 'occupation_ Tech-support', 'occupation_ Transport-moving', 'relationship_ Husband', 'relationship_ Not-in-family', 'relationship_ Other-relative', 'relationship_ Own-child', 'relationship_ Unmarried', 'relationship_ Wife', 'race_ Amer-Indian-Eskimo', 'race_ Asian-Pac-Islander', 'race_ Black', 'race_ Other', 'race_ White', 'sex_ Female', 'sex_ Male', 'native-country_ Cambodia', 'native-country_ Canada', 'native-country_ China', 'native-country_ Columbia', 'native-country_ Cuba', 'native-country_ Dominican-Republic', 'native-country_ Ecuador', 'native-country_ El-Salvador', 'native-country_ England', 'native-country_ France', 'native-country_ Germany', 'native-country_ Greece', 'native-country_ Guatemala', 'native-country_ Haiti', 'native-country_ Holand-Netherlands', 'native-country_ Honduras', 'native-country_ Hong', 'native-country_ Hungary', 'native-country_ India', 'native-country_ Iran', 'native-country_ Ireland', 'native-country_ Italy', 'native-country_ Jamaica', 'native-country_ Japan', 'native-country_ Laos', 'native-country_ Mexico', 'native-country_ Nicaragua', 'native-country_ Outlying-US(Guam-USVI-etc)', 'native-country_ Peru', 'native-country_ Philippines', 'native-country_ Poland', 'native-country_ Portugal', 'native-country_ Puerto-Rico', 'native-country_ Scotland', 'native-country_ South', 'native-country_ Taiwan', 'native-country_ Thailand', 'native-country_ Trinadad&Tobago', 'native-country_ United-States', 'native-country_ Vietnam', 'native-country_ Yugoslavia']\n"
     ]
    }
   ],
   "source": [
    "# One-hot encoding the 'features_log_minmax_transform' data using pandas.get_dummies()\n",
    "features_final = pd.get_dummies(features_log_minmax_transform)\n",
    "\n",
    "# Encoding the 'income_raw' data to numerical values\n",
    "income = income_raw.replace({'<=50K': 0, '>50K': 1})\n",
    "\n",
    "# Printing the number of features after one-hot encoding\n",
    "encoded = list(features_final.columns)\n",
    "print(\"{} total features after one-hot encoding.\".format(len(encoded)))\n",
    "\n",
    "print(encoded)"
   ]
  },
  {
   "cell_type": "markdown",
   "id": "b54b4882",
   "metadata": {
    "papermill": {
     "duration": 0.031439,
     "end_time": "2022-04-16T16:10:48.133410",
     "exception": false,
     "start_time": "2022-04-16T16:10:48.101971",
     "status": "completed"
    },
    "tags": []
   },
   "source": [
    "### Shuffle and Split Data\n",
    "We will now split the data (both features and their labels) into training and test sets. 80% of the data will be used for training and 20% for testing."
   ]
  },
  {
   "cell_type": "code",
   "execution_count": 7,
   "id": "e35c62ca",
   "metadata": {
    "execution": {
     "iopub.execute_input": "2022-04-16T16:10:48.205318Z",
     "iopub.status.busy": "2022-04-16T16:10:48.204465Z",
     "iopub.status.idle": "2022-04-16T16:10:48.246727Z",
     "shell.execute_reply": "2022-04-16T16:10:48.247247Z"
    },
    "papermill": {
     "duration": 0.081591,
     "end_time": "2022-04-16T16:10:48.247419",
     "exception": false,
     "start_time": "2022-04-16T16:10:48.165828",
     "status": "completed"
    },
    "tags": []
   },
   "outputs": [
    {
     "name": "stdout",
     "output_type": "stream",
     "text": [
      "Training set has 36177 samples.\n",
      "Testing set has 9045 samples.\n"
     ]
    }
   ],
   "source": [
    "# Importing train_test_split\n",
    "from sklearn.model_selection import train_test_split\n",
    "\n",
    "# Splitting the 'features' and 'income' data into training and testing sets\n",
    "X_train, X_test, y_train, y_test = train_test_split(features_final, \n",
    "                                                    income, \n",
    "                                                    test_size = 0.2, \n",
    "                                                    random_state = 0)\n",
    "\n",
    "# Showing the results of the split\n",
    "print(\"Training set has {} samples.\".format(X_train.shape[0]))\n",
    "print(\"Testing set has {} samples.\".format(X_test.shape[0]))"
   ]
  },
  {
   "cell_type": "markdown",
   "id": "fd104dc9",
   "metadata": {
    "papermill": {
     "duration": 0.035655,
     "end_time": "2022-04-16T16:10:48.315473",
     "exception": false,
     "start_time": "2022-04-16T16:10:48.279818",
     "status": "completed"
    },
    "tags": []
   },
   "source": [
    "----\n",
    "## Evaluating Model Performance\n",
    "In this section, we will investigate four different algorithms, and determine which is best at modeling the data."
   ]
  },
  {
   "cell_type": "markdown",
   "id": "0317278a",
   "metadata": {
    "papermill": {
     "duration": 0.032307,
     "end_time": "2022-04-16T16:10:48.380455",
     "exception": false,
     "start_time": "2022-04-16T16:10:48.348148",
     "status": "completed"
    },
    "tags": []
   },
   "source": [
    "### Metrics and the Naive Predictor\n",
    "*CharityML*, equipped with their research, knows individuals that make more than \\$50,000 are most likely to donate to their charity. Because of this, *CharityML* is particularly interested in predicting who makes more than \\$50,000 accurately. It would seem that using **accuracy** as a metric for evaluating a particular model's performace would be appropriate. Additionally, identifying someone that *does not* make more than \\$50,000 as someone who does would be detrimental to *CharityML*, since they are looking to find individuals willing to donate. Therefore, a model's ability to precisely predict those that make more than \\$50,000 is *more important* than the model's ability to **recall** those individuals. We can use **F-beta score** as a metric that considers both precision and recall:\n",
    "\n",
    "$$ F_{\\beta} = (1 + \\beta^2) \\cdot \\frac{precision \\cdot recall}{\\left( \\beta^2 \\cdot precision \\right) + recall} $$\n",
    "\n",
    "In particular, when $\\beta = 0.5$, more emphasis is placed on precision."
   ]
  },
  {
   "cell_type": "markdown",
   "id": "705db434",
   "metadata": {
    "papermill": {
     "duration": 0.032095,
     "end_time": "2022-04-16T16:10:48.445225",
     "exception": false,
     "start_time": "2022-04-16T16:10:48.413130",
     "status": "completed"
    },
    "tags": []
   },
   "source": [
    "### Naive Predictor Performace"
   ]
  },
  {
   "cell_type": "code",
   "execution_count": 8,
   "id": "f4cfb4a8",
   "metadata": {
    "execution": {
     "iopub.execute_input": "2022-04-16T16:10:48.521039Z",
     "iopub.status.busy": "2022-04-16T16:10:48.520262Z",
     "iopub.status.idle": "2022-04-16T16:10:48.525918Z",
     "shell.execute_reply": "2022-04-16T16:10:48.526514Z"
    },
    "papermill": {
     "duration": 0.047678,
     "end_time": "2022-04-16T16:10:48.526733",
     "exception": false,
     "start_time": "2022-04-16T16:10:48.479055",
     "status": "completed"
    },
    "tags": []
   },
   "outputs": [
    {
     "name": "stdout",
     "output_type": "stream",
     "text": [
      "Naive Predictor: [Accuracy score: 0.2478, F-score: 0.2917]\n"
     ]
    }
   ],
   "source": [
    "'''\n",
    "TP = np.sum(income) # Counting the ones as this is the naive case. Note that 'income' is the 'income_raw' data \n",
    "encoded to numerical values done in the data preprocessing step.\n",
    "FP = income.count() - TP # Specific to the naive case\n",
    "\n",
    "TN = 0 # No predicted negatives in the naive case\n",
    "FN = 0 # No predicted negatives in the naive case\n",
    "'''\n",
    "# Calculating accuracy, precision and recall\n",
    "accuracy = np.sum(income) / income.count()\n",
    "recall = np.sum(income) / (np.sum(income) + 0)\n",
    "precision = np.sum(income) / (np.sum(income) + (income.count() - np.sum(income)))\n",
    "\n",
    "# Calculating F-score using the formula above for beta = 0.5 and correct values for precision and recall.\n",
    "fscore = ((1 + 0.5 ** 2) * (precision * recall)) / (0.5 ** 2 * precision + recall)\n",
    "\n",
    "# Printing the results \n",
    "print(\"Naive Predictor: [Accuracy score: {:.4f}, F-score: {:.4f}]\".format(accuracy, fscore))"
   ]
  },
  {
   "cell_type": "markdown",
   "id": "d0aa06a9",
   "metadata": {
    "papermill": {
     "duration": 0.033337,
     "end_time": "2022-04-16T16:10:48.593400",
     "exception": false,
     "start_time": "2022-04-16T16:10:48.560063",
     "status": "completed"
    },
    "tags": []
   },
   "source": [
    "### Model Application"
   ]
  },
  {
   "cell_type": "markdown",
   "id": "0842a873",
   "metadata": {
    "papermill": {
     "duration": 0.033502,
     "end_time": "2022-04-16T16:10:48.664183",
     "exception": false,
     "start_time": "2022-04-16T16:10:48.630681",
     "status": "completed"
    },
    "tags": []
   },
   "source": [
    "**Models I'm going to use, and some info about each one:**\n",
    "\n",
    "1) Logistic Regression\n",
    "\n",
    "- Real-world Application:  \n",
    "A credit card company wants to know whether transaction amount and credit score impact the probability of a given transaction being fraudulent. To understand the relationship between these two predictor variables and the probability of a transaction being fraudulent, the company can perform logistic regression.\n",
    "\n",
    "\n",
    "- Strengths:  \n",
    "1- Logistic regression is easy to implement, interpret, and very efficient to train.  \n",
    "2- It makes no assumptions about distributions of classes in feature space.  \n",
    "3- It is very fast at classifying unknown records.  \n",
    "- When does it perform well?  \n",
    "When the dataset is linearly separable.\n",
    "\n",
    "\n",
    "\n",
    "- Weaknesses:  \n",
    "1- It constructs linear boundaries.  \n",
    "2- The assumption of linearity between the dependent variable and the independent variables.  \n",
    "3- It is tough to obtain complex relationships using logistic regression.  \n",
    "- When does it perform poorly?  \n",
    "When the number of observations is lesser than the number of features.\n",
    "\n",
    "\n",
    "- This model is a good candidate for our problem because our dataset is simple & our dependant variable is binary in nature (0/1).\n",
    "\n",
    "\n",
    "2) Gaussian Naive Bayes\n",
    "\n",
    "- Real-world Application:  \n",
    "Classifying SMS messages as spam or not. To detect the probability of an SMS text being spam, many companies use Gaussian Naive Bayes, where it performs well in text classification problems.\n",
    "\n",
    "\n",
    "- Strengths:  \n",
    "1- Easy and quick way to predict classes, both in binary and multiclass classification problems.  \n",
    "2- In the cases that the independence assumption fits, the algorithm performs better compared to other classification models, even with less training data.  \n",
    "3- The decoupling of the class conditional feature distributions means that each distribution can be independently estimated as a one dimensional distribution. This helps with problems derived from the curse of dimensionality and improve the performance.  \n",
    "- When does it perform well?  \n",
    "When the features of the data are independent.\n",
    "\n",
    "\n",
    "\n",
    "- Weaknesses:  \n",
    "1- The naive assumption of independence is very unlikely to match real-world data.  \n",
    "2- When the test data set has a feature that has not been observed in the training set, the model will assign a 0 probability to it and will be useless to make predictions.   \n",
    "- When does it perform poorly?  \n",
    "When there exist strong depedencies between features.\n",
    "\n",
    "\n",
    "- This model is a good candidate for our problem because most of our variables seem independent.\n",
    "\n",
    "3) Random Forest\n",
    "\n",
    "- Real-world Application:  \n",
    "Detecting Parkinson-related lesions within the midbrain in 3D transcranial ultrasound. Where the random forest model uses the organ arrangement, size, shape and the leaf nodes predict the organ class and spatial location.\n",
    "\n",
    "\n",
    "- Strengths:  \n",
    "1- It works well with both categorical and continuous values.  \n",
    "2- It reduces overfitting in decision trees and helps to improve the accuracy.\n",
    "3- It automates missing values present in the data.\n",
    "- When does it perform well?  \n",
    "Random Forest's efficiency is particularly Notable in Large Data sets.\n",
    "\n",
    "\n",
    "\n",
    "- Weaknesses:  \n",
    "1- It requires much computational power as well as resources as it builds numerous trees to combine their outputs.  \n",
    "2- It also requires much time for training as it combines a lot of decision trees to determine the class.  \n",
    "3- Due to the ensemble of decision trees, it also suffers interpretability and fails to determine the significance of each variable.  \n",
    "- When does it perform poorly?  \n",
    "When interpretable model information is crucial.\n",
    "\n",
    "\n",
    "- This model is a good candidate for our problem because we have a big dataset (45k+ samples & 100+ features).\n",
    "\n",
    "\n",
    ">References:  \n",
    "https://www.geeksforgeeks.org/advantages-and-disadvantages-of-logistic-regression/   \n",
    "https://www.statology.org/logistic-regression-real-life-examples/   \n",
    "https://towardsdatascience.com/naive-bayes-intuition-and-implementation-ac328f9c9718   \n",
    "https://www.mygreatlearning.com/blog/random-forest-algorithm/   \n"
   ]
  },
  {
   "cell_type": "markdown",
   "id": "ab623b77",
   "metadata": {
    "papermill": {
     "duration": 0.034053,
     "end_time": "2022-04-16T16:10:48.731880",
     "exception": false,
     "start_time": "2022-04-16T16:10:48.697827",
     "status": "completed"
    },
    "tags": []
   },
   "source": [
    "### Creating a Training and Predicting Pipeline"
   ]
  },
  {
   "cell_type": "code",
   "execution_count": 9,
   "id": "4cd17427",
   "metadata": {
    "execution": {
     "iopub.execute_input": "2022-04-16T16:10:48.802585Z",
     "iopub.status.busy": "2022-04-16T16:10:48.800814Z",
     "iopub.status.idle": "2022-04-16T16:10:48.812969Z",
     "shell.execute_reply": "2022-04-16T16:10:48.812384Z"
    },
    "papermill": {
     "duration": 0.048623,
     "end_time": "2022-04-16T16:10:48.813130",
     "exception": false,
     "start_time": "2022-04-16T16:10:48.764507",
     "status": "completed"
    },
    "tags": []
   },
   "outputs": [],
   "source": [
    "# Importing two metrics from sklearn - fbeta_score and accuracy_score\n",
    "from sklearn.metrics import fbeta_score, accuracy_score\n",
    "\n",
    "def train_predict(learner, sample_size, X_train, y_train, X_test, y_test): \n",
    "    '''\n",
    "    inputs:\n",
    "       - learner: the learning algorithm to be trained and predicted on\n",
    "       - sample_size: the size of samples (number) to be drawn from training set\n",
    "       - X_train: features training set\n",
    "       - y_train: income training set\n",
    "       - X_test: features testing set\n",
    "       - y_test: income testing set\n",
    "    '''\n",
    "    \n",
    "    results = {}\n",
    "    \n",
    "    # Fitting the learner to the training data using slicing with 'sample_size' using .fit(training_features[:], training_labels[:])\n",
    "    start = time() # Get start time\n",
    "    learner.fit(X_train[:sample_size], y_train[:sample_size])\n",
    "    end = time() # Get end time\n",
    "    \n",
    "    # Calculating the training time\n",
    "    results['train_time'] = end - start\n",
    "        \n",
    "    # Getting the predictions on the test set(X_test),\n",
    "    # then getting predictions on the first 300 training samples(X_train) using .predict()\n",
    "    start = time() # Get start time\n",
    "    predictions_test = learner.predict(X_test)\n",
    "    predictions_train = learner.predict(X_train[:300])\n",
    "    end = time() # Get end time\n",
    "    \n",
    "    # Calculating the total prediction time\n",
    "    results['pred_time'] = end - start\n",
    "            \n",
    "    # Computing accuracy on the first 300 training samples which is y_train[:300]\n",
    "    results['acc_train'] = accuracy_score(predictions_train, y_train[:300])\n",
    "        \n",
    "    # Computing accuracy on test set using accuracy_score()\n",
    "    results['acc_test'] = accuracy_score(predictions_test, y_test)\n",
    "    \n",
    "    # Computing F-score on the the first 300 training samples using fbeta_score()\n",
    "    results['f_train'] = fbeta_score(predictions_train, y_train[:300], beta=1)\n",
    "        \n",
    "    # Computing F-score on the test set which is y_test\n",
    "    results['f_test'] = fbeta_score(predictions_test, y_test, beta=1)\n",
    "       \n",
    "    # Success\n",
    "    print(\"{} trained on {} samples.\".format(learner.__class__.__name__, sample_size))\n",
    "        \n",
    "    # Returning the results\n",
    "    return results"
   ]
  },
  {
   "cell_type": "markdown",
   "id": "4a5242d5",
   "metadata": {
    "papermill": {
     "duration": 0.032944,
     "end_time": "2022-04-16T16:10:48.878780",
     "exception": false,
     "start_time": "2022-04-16T16:10:48.845836",
     "status": "completed"
    },
    "tags": []
   },
   "source": [
    "### Initial Model Evaluation"
   ]
  },
  {
   "cell_type": "code",
   "execution_count": 10,
   "id": "8875e5b2",
   "metadata": {
    "execution": {
     "iopub.execute_input": "2022-04-16T16:10:48.953533Z",
     "iopub.status.busy": "2022-04-16T16:10:48.952738Z",
     "iopub.status.idle": "2022-04-16T16:10:58.673702Z",
     "shell.execute_reply": "2022-04-16T16:10:58.674313Z"
    },
    "papermill": {
     "duration": 9.763,
     "end_time": "2022-04-16T16:10:58.674517",
     "exception": false,
     "start_time": "2022-04-16T16:10:48.911517",
     "status": "completed"
    },
    "tags": []
   },
   "outputs": [
    {
     "name": "stdout",
     "output_type": "stream",
     "text": [
      "LogisticRegression trained on 361 samples.\n",
      "LogisticRegression trained on 3617 samples.\n",
      "LogisticRegression trained on 36177 samples.\n",
      "GaussianNB trained on 361 samples.\n",
      "GaussianNB trained on 3617 samples.\n",
      "GaussianNB trained on 36177 samples.\n",
      "RandomForestClassifier trained on 361 samples.\n",
      "RandomForestClassifier trained on 3617 samples.\n",
      "RandomForestClassifier trained on 36177 samples.\n"
     ]
    },
    {
     "name": "stderr",
     "output_type": "stream",
     "text": [
      "/kaggle/working/visuals.py:118: UserWarning: Tight layout not applied. tight_layout cannot make axes width small enough to accommodate all axes decorations\n",
      "  pl.tight_layout()\n"
     ]
    },
    {
     "data": {
      "image/png": "[encoded data removed]",
      "text/plain": [
       "<Figure size 792x504 with 6 Axes>"
      ]
     },
     "metadata": {
      "needs_background": "light"
     },
     "output_type": "display_data"
    }
   ],
   "source": [
    "# Importing the three supervised learning models from sklearn\n",
    "from sklearn.linear_model import LogisticRegression\n",
    "from sklearn.naive_bayes import GaussianNB\n",
    "from sklearn.ensemble import RandomForestClassifier\n",
    "\n",
    "# Initializing the three models\n",
    "clf_A = LogisticRegression(solver='liblinear')\n",
    "clf_B = GaussianNB()\n",
    "clf_C = RandomForestClassifier()\n",
    "\n",
    "# Calculating the number of samples for 1%, 10%, and 100% of the training data\n",
    "# samples_100 is the entire training set i.e. len(y_train)\n",
    "# samples_10 is 10% of samples_100\n",
    "# samples_1 is 1% of samples_100\n",
    "samples_100 = len(y_train)\n",
    "samples_10 = int(0.1 * samples_100)\n",
    "samples_1 = int(0.01 * samples_100)\n",
    "\n",
    "# Collecting results on the learners\n",
    "results = {}\n",
    "for clf in [clf_A, clf_B, clf_C]:\n",
    "    clf_name = clf.__class__.__name__\n",
    "    results[clf_name] = {}\n",
    "    for i, samples in enumerate([samples_1, samples_10, samples_100]):\n",
    "        results[clf_name][i] = \\\n",
    "        train_predict(clf, samples, X_train, y_train, X_test, y_test)\n",
    "\n",
    "# Running metrics visualization for the three supervised learning models chosen\n",
    "vs.evaluate(results, accuracy, fscore)"
   ]
  },
  {
   "cell_type": "markdown",
   "id": "ac1574ad",
   "metadata": {
    "papermill": {
     "duration": 0.037108,
     "end_time": "2022-04-16T16:10:58.752100",
     "exception": false,
     "start_time": "2022-04-16T16:10:58.714992",
     "status": "completed"
    },
    "tags": []
   },
   "source": [
    "----\n",
    "## Improving Results\n",
    "In this final section, I will choose from the three supervised learning models the *best* model to use on the student data. I will then perform a grid search optimization for the model over the entire training set (`X_train` and `y_train`) by tuning at least one parameter to improve upon the untuned model's F-score. "
   ]
  },
  {
   "cell_type": "markdown",
   "id": "faec38fd",
   "metadata": {
    "papermill": {
     "duration": 0.037108,
     "end_time": "2022-04-16T16:10:58.826037",
     "exception": false,
     "start_time": "2022-04-16T16:10:58.788929",
     "status": "completed"
    },
    "tags": []
   },
   "source": [
    "### Choosing the Best Model"
   ]
  },
  {
   "cell_type": "markdown",
   "id": "295f8288",
   "metadata": {
    "papermill": {
     "duration": 0.036438,
     "end_time": "2022-04-16T16:10:58.899377",
     "exception": false,
     "start_time": "2022-04-16T16:10:58.862939",
     "status": "completed"
    },
    "tags": []
   },
   "source": [
    "Looking into the F-score on the testing set when all of the training data is used, we can clearly see nearly equal F-scores for both our Logistic Regression & Random Forest models (0.7), while our Gaussian Naive Bayes model had a significantly less F-score (~0.5). Moreover, the training time for our Random Forest model was nearly double the training time for the Logistic Regression model in all the sample sizes we used (1%, 10%, and 100%), with the Gaussian Naive Bayes model having the least training time in all of them. Furthermore, the prediction time for our Random Forest model was the highest for both the 10% & 100% samples, with the Gaussian Naive Bayes model having the highest prediction time for the 1% sample, and the Logistic Regression model having the least prediction time in all samples.\n",
    "\n",
    "\n",
    "Although our Logistic Regression & Random Forest models had the same F-scores, we believe the Logistic Regression model to be the most appropriate for the task of identifying individuals that make more than $50,000, and that's due to it being faster than the Random Forest model in both training & predicting, the clear over-fitting occuring in the the Random Forest model, the algorithm's suitability for our data that is sparse & simple, and its big interpretability in comparison to the Random Forest model."
   ]
  },
  {
   "cell_type": "markdown",
   "id": "78c23e8c",
   "metadata": {
    "papermill": {
     "duration": 0.037035,
     "end_time": "2022-04-16T16:10:58.973949",
     "exception": false,
     "start_time": "2022-04-16T16:10:58.936914",
     "status": "completed"
    },
    "tags": []
   },
   "source": [
    "### Describing the Model in Layman's Terms"
   ]
  },
  {
   "cell_type": "markdown",
   "id": "95869172",
   "metadata": {
    "papermill": {
     "duration": 0.037333,
     "end_time": "2022-04-16T16:10:59.048777",
     "exception": false,
     "start_time": "2022-04-16T16:10:59.011444",
     "status": "completed"
    },
    "tags": []
   },
   "source": [
    "Our Logistic Regression model is a mathematical model used in statistics to estimate (guess) the probability of an event occurring having been given some previous data. Logistic regression works with binary data, where either the event happens (1) or the event does not happen (0) (simple wikipedia), so either the individual is making making more than 50k (1) or is not (0).\n",
    "\n",
    "\n",
    "The logistic regression model is trained on our data by trying to find an equation that accurately predicts the probablility of an individual making making more than 50k based on our features, where the model uses the 'income' feature to keep modifying the predicting equation until it comes out with the most precise equation with the least prediction errors. If the probablility is >= 0.5 than the model outputs (1) predicting that the individual is making more than 50k, while if the probablility is < 0.5 than the model outputs (0) predicting that the individual is making less than or equal to 50k."
   ]
  },
  {
   "cell_type": "markdown",
   "id": "03b8f8d5",
   "metadata": {
    "papermill": {
     "duration": 0.037624,
     "end_time": "2022-04-16T16:10:59.125232",
     "exception": false,
     "start_time": "2022-04-16T16:10:59.087608",
     "status": "completed"
    },
    "tags": []
   },
   "source": [
    "### Model Tuning"
   ]
  },
  {
   "cell_type": "code",
   "execution_count": 11,
   "id": "52713103",
   "metadata": {
    "execution": {
     "iopub.execute_input": "2022-04-16T16:10:59.214170Z",
     "iopub.status.busy": "2022-04-16T16:10:59.213200Z",
     "iopub.status.idle": "2022-04-16T16:12:03.336754Z",
     "shell.execute_reply": "2022-04-16T16:12:03.337700Z"
    },
    "papermill": {
     "duration": 64.175906,
     "end_time": "2022-04-16T16:12:03.337993",
     "exception": false,
     "start_time": "2022-04-16T16:10:59.162087",
     "status": "completed"
    },
    "tags": []
   },
   "outputs": [
    {
     "name": "stdout",
     "output_type": "stream",
     "text": [
      "Unoptimized model\n",
      "------\n",
      "Accuracy score on testing data: 0.8419\n",
      "F-score on testing data: 0.6832\n",
      "\n",
      "Optimized Model\n",
      "------\n",
      "Final accuracy score on the testing data: 0.8416\n",
      "Final F-score on the testing data: 0.6823\n"
     ]
    }
   ],
   "source": [
    "# Importing 'GridSearchCV' and 'make_scorer'\n",
    "from sklearn.model_selection import GridSearchCV\n",
    "from sklearn.metrics import make_scorer\n",
    "\n",
    "# Initializing the classifier\n",
    "clf = LogisticRegression(solver='liblinear')\n",
    "\n",
    "# Creating the parameters list we wish to tune, using a dictionary if needed.\n",
    "# parameters = {'parameter_1': [value1, value2], 'parameter_2': [value1, value2]}\n",
    "parameters = {'C': np.logspace(-4, 4, 50)}\n",
    "\n",
    "# Making an fbeta_score scoring object using make_scorer()\n",
    "scorer = make_scorer(fbeta_score, beta=1)\n",
    "\n",
    "# Performing grid search on the classifier using 'scorer' as the scoring method using GridSearchCV()\n",
    "grid_obj = GridSearchCV(clf, parameters, scoring=scorer)\n",
    "\n",
    "# Fitting the grid search object to the training data and finding the optimal parameters using fit()\n",
    "grid_fit = grid_obj.fit(X_train, y_train)\n",
    "\n",
    "# Getting the estimator\n",
    "best_clf = grid_fit.best_estimator_\n",
    "\n",
    "# Making predictions using the unoptimized and model\n",
    "predictions = (clf.fit(X_train, y_train)).predict(X_test)\n",
    "best_predictions = best_clf.predict(X_test)\n",
    "\n",
    "# Reporting the before-and-afterscores\n",
    "print(\"Unoptimized model\\n------\")\n",
    "print(\"Accuracy score on testing data: {:.4f}\".format(accuracy_score(y_test, predictions)))\n",
    "print(\"F-score on testing data: {:.4f}\".format(fbeta_score(y_test, predictions, beta = 0.5)))\n",
    "print(\"\\nOptimized Model\\n------\")\n",
    "print(\"Final accuracy score on the testing data: {:.4f}\".format(accuracy_score(y_test, best_predictions)))\n",
    "print(\"Final F-score on the testing data: {:.4f}\".format(fbeta_score(y_test, best_predictions, beta = 0.5)))"
   ]
  },
  {
   "cell_type": "markdown",
   "id": "7e649eb8",
   "metadata": {
    "papermill": {
     "duration": 0.038141,
     "end_time": "2022-04-16T16:12:03.424266",
     "exception": false,
     "start_time": "2022-04-16T16:12:03.386125",
     "status": "completed"
    },
    "tags": []
   },
   "source": [
    "### Final Model Evaluation"
   ]
  },
  {
   "cell_type": "markdown",
   "id": "9f6d7c32",
   "metadata": {
    "papermill": {
     "duration": 0.038058,
     "end_time": "2022-04-16T16:12:03.502030",
     "exception": false,
     "start_time": "2022-04-16T16:12:03.463972",
     "status": "completed"
    },
    "tags": []
   },
   "source": [
    "#### Results:\n",
    "\n",
    "|     Metric     | Unoptimized Model | Optimized Model |\n",
    "| :------------: | :---------------: | :-------------: | \n",
    "| Accuracy Score |    0.8419         | 0.8418          |\n",
    "| F-score        |   0.6832          |     0.6828      |\n"
   ]
  },
  {
   "cell_type": "markdown",
   "id": "f52a5c07",
   "metadata": {
    "papermill": {
     "duration": 0.037167,
     "end_time": "2022-04-16T16:12:03.578497",
     "exception": false,
     "start_time": "2022-04-16T16:12:03.541330",
     "status": "completed"
    },
    "tags": []
   },
   "source": [
    "Our Accuracy Score & F-score for our optimized model are slighly less than for our unoptimized model, which indicates the small role regulization plays in our model for the task of identifying individuals that make more than 50k. However, the results of our optimized model are way higher than the naive predictor benchmarks we found earlier (0.84 & 0.68 vs 0.25 & 0.29), which indicate the huge role our model plays in identifying individuals that make more than $50,000."
   ]
  },
  {
   "cell_type": "markdown",
   "id": "ecccb4ae",
   "metadata": {
    "papermill": {
     "duration": 0.037092,
     "end_time": "2022-04-16T16:12:03.653141",
     "exception": false,
     "start_time": "2022-04-16T16:12:03.616049",
     "status": "completed"
    },
    "tags": []
   },
   "source": [
    "----\n",
    "## Feature Importance\n",
    "\n",
    "An important task when performing supervised learning on a dataset like the census data we study here is determining which features provide the most predictive power. By focusing on the relationship between only a few crucial features and the target label we simplify our understanding of the phenomenon, which is most always a useful thing to do. In the case of this project, that means we wish to identify a small number of features that most strongly predict whether an individual makes at most or more than \\$50,000."
   ]
  },
  {
   "cell_type": "markdown",
   "id": "a1a2a519",
   "metadata": {
    "papermill": {
     "duration": 0.036806,
     "end_time": "2022-04-16T16:12:03.727600",
     "exception": false,
     "start_time": "2022-04-16T16:12:03.690794",
     "status": "completed"
    },
    "tags": []
   },
   "source": [
    "### Feature Relevance Logical Observation"
   ]
  },
  {
   "cell_type": "markdown",
   "id": "ab9cdf65",
   "metadata": {
    "papermill": {
     "duration": 0.036855,
     "end_time": "2022-04-16T16:12:03.802821",
     "exception": false,
     "start_time": "2022-04-16T16:12:03.765966",
     "status": "completed"
    },
    "tags": []
   },
   "source": [
    "- Thinking logically, I would say age, capital gain, marital-status, hours-per-week, and sex are the most important features for prediction .\n",
    "\n",
    "- I would rank age as the most important one, as I think there is an age range where individuals will have a very high chance of earning more than 50k (senior employees), next is capital gain, due to the high possible correlation between it & the income, then the marital-status, due to civilian spouses having a high probablity of a high income in comparison spouces in the armed forces & single individuals, then hours-per-week, due to the chance of a correlation between number of hours worked and income, and finally sex, where I think male individuals might have a higher change of a high income."
   ]
  },
  {
   "cell_type": "markdown",
   "id": "93a28757",
   "metadata": {
    "papermill": {
     "duration": 0.037592,
     "end_time": "2022-04-16T16:12:03.877437",
     "exception": false,
     "start_time": "2022-04-16T16:12:03.839845",
     "status": "completed"
    },
    "tags": []
   },
   "source": [
    "### Extracting Feature Importance"
   ]
  },
  {
   "cell_type": "code",
   "execution_count": 12,
   "id": "4b2150db",
   "metadata": {
    "execution": {
     "iopub.execute_input": "2022-04-16T16:12:03.962913Z",
     "iopub.status.busy": "2022-04-16T16:12:03.961475Z",
     "iopub.status.idle": "2022-04-16T16:12:10.515954Z",
     "shell.execute_reply": "2022-04-16T16:12:10.515320Z"
    },
    "papermill": {
     "duration": 6.599742,
     "end_time": "2022-04-16T16:12:10.516113",
     "exception": false,
     "start_time": "2022-04-16T16:12:03.916371",
     "status": "completed"
    },
    "tags": []
   },
   "outputs": [
    {
     "data": {
      "image/png": "[encoded data removed]",
      "text/plain": [
       "<Figure size 648x360 with 1 Axes>"
      ]
     },
     "metadata": {
      "needs_background": "light"
     },
     "output_type": "display_data"
    }
   ],
   "source": [
    "# Importing a supervised learning model that has 'feature_importances_'\n",
    "from sklearn.ensemble import RandomForestClassifier\n",
    "\n",
    "# Training the supervised model on the training set using .fit(X_train, y_train)\n",
    "model = RandomForestClassifier().fit(X_train, y_train)\n",
    "\n",
    "# Extracting the feature importances using .feature_importances_ \n",
    "importances = model.feature_importances_ \n",
    "\n",
    "# Plot\n",
    "vs.feature_plot(importances, X_train, y_train)"
   ]
  },
  {
   "cell_type": "markdown",
   "id": "bbf8c63c",
   "metadata": {
    "papermill": {
     "duration": 0.054211,
     "end_time": "2022-04-16T16:12:10.621892",
     "exception": false,
     "start_time": "2022-04-16T16:12:10.567681",
     "status": "completed"
    },
    "tags": []
   },
   "source": [
    "### Extracting Feature Importance"
   ]
  },
  {
   "cell_type": "markdown",
   "id": "e9a1b87a",
   "metadata": {
    "papermill": {
     "duration": 0.038317,
     "end_time": "2022-04-16T16:12:10.706872",
     "exception": false,
     "start_time": "2022-04-16T16:12:10.668555",
     "status": "completed"
    },
    "tags": []
   },
   "source": [
    "The most important feature for prediction turned out to be age as I predicted. The next most important one turned out to be hours-per-week, where I actually predicted it to be the fifth one, where the number of working hours seems to heavily effect one's income more than I thought. The third one is capital-gain which I predicted to be the second but due to the hours-per-week being more significant than I expected it turned out to be third. The fourth one is education-num which I totally missed, I knew there was an obivous potential relationship between education-num and income but I thought it wasn't strong enough to be in the top 5 however education-num actually seems significant in predicting one's income. Lastly, we have status_Married-civ-spouse which I correctly predicted the concept of (civilian spouse vs other) but missed out on the correct ranking. And finally, my male bias seems to be totaly wrong XD."
   ]
  },
  {
   "cell_type": "markdown",
   "id": "851b6869",
   "metadata": {
    "papermill": {
     "duration": 0.040458,
     "end_time": "2022-04-16T16:12:10.786842",
     "exception": false,
     "start_time": "2022-04-16T16:12:10.746384",
     "status": "completed"
    },
    "tags": []
   },
   "source": [
    "### Feature Selection\n",
    "How does a model perform if we only use a subset of all the available features in the data? With less features required to train, the expectation is that training and prediction time is much lower — at the cost of performance metrics. From the visualization above, we see that the top five most important features contribute more than half of the importance of **all** features present in the data. This hints that we can attempt to *reduce the feature space* and simplify the information required for the model to learn."
   ]
  },
  {
   "cell_type": "code",
   "execution_count": 13,
   "id": "08849b24",
   "metadata": {
    "execution": {
     "iopub.execute_input": "2022-04-16T16:12:10.878335Z",
     "iopub.status.busy": "2022-04-16T16:12:10.877666Z",
     "iopub.status.idle": "2022-04-16T16:12:10.973509Z",
     "shell.execute_reply": "2022-04-16T16:12:10.974996Z"
    },
    "papermill": {
     "duration": 0.149597,
     "end_time": "2022-04-16T16:12:10.975376",
     "exception": false,
     "start_time": "2022-04-16T16:12:10.825779",
     "status": "completed"
    },
    "tags": []
   },
   "outputs": [
    {
     "name": "stdout",
     "output_type": "stream",
     "text": [
      "Final Model trained on full data\n",
      "------\n",
      "Accuracy on testing data: 0.8416\n",
      "F-score on testing data: 0.6823\n",
      "\n",
      "Final Model trained on reduced data\n",
      "------\n",
      "Accuracy on testing data: 0.8266\n",
      "F-score on testing data: 0.6480\n"
     ]
    }
   ],
   "source": [
    "# Importing functionality for cloning a model\n",
    "from sklearn.base import clone\n",
    "\n",
    "# Reducing the feature space\n",
    "X_train_reduced = X_train[X_train.columns.values[(np.argsort(importances)[::-1])[:5]]]\n",
    "X_test_reduced = X_test[X_test.columns.values[(np.argsort(importances)[::-1])[:5]]]\n",
    "\n",
    "# Trainning on the \"best\" model found from grid search earlier\n",
    "clf = (clone(best_clf)).fit(X_train_reduced, y_train)\n",
    "\n",
    "# Making new predictions\n",
    "reduced_predictions = clf.predict(X_test_reduced)\n",
    "\n",
    "# Reporting scores from the final model using both versions of data\n",
    "print(\"Final Model trained on full data\\n------\")\n",
    "print(\"Accuracy on testing data: {:.4f}\".format(accuracy_score(y_test, best_predictions)))\n",
    "print(\"F-score on testing data: {:.4f}\".format(fbeta_score(y_test, best_predictions, beta = 0.5)))\n",
    "print(\"\\nFinal Model trained on reduced data\\n------\")\n",
    "print(\"Accuracy on testing data: {:.4f}\".format(accuracy_score(y_test, reduced_predictions)))\n",
    "print(\"F-score on testing data: {:.4f}\".format(fbeta_score(y_test, reduced_predictions, beta = 0.5)))"
   ]
  },
  {
   "cell_type": "markdown",
   "id": "dff80bcc",
   "metadata": {
    "papermill": {
     "duration": 0.042089,
     "end_time": "2022-04-16T16:12:11.095756",
     "exception": false,
     "start_time": "2022-04-16T16:12:11.053667",
     "status": "completed"
    },
    "tags": []
   },
   "source": [
    "### Effects of Feature Selection"
   ]
  },
  {
   "cell_type": "markdown",
   "id": "1d776e1c",
   "metadata": {
    "papermill": {
     "duration": 0.040477,
     "end_time": "2022-04-16T16:12:11.177506",
     "exception": false,
     "start_time": "2022-04-16T16:12:11.137029",
     "status": "completed"
    },
    "tags": []
   },
   "source": [
    "- The accuracy score when using five features only was slightly less than when we used the full data (by 2%), while the F-score was less by about double that amount (~4%).\n",
    "\n",
    "- Conclusion: I wouldn't sacrifice ~0.04 F-score for less training time, as more training time can be dealed with more than the overhead costs of sending more emails to individuals that certainly won't donate."
   ]
  }
 ],
 "metadata": {
  "kernelspec": {
   "display_name": "Python 3",
   "language": "python",
   "name": "python3"
  },
  "language_info": {
   "codemirror_mode": {
    "name": "ipython",
    "version": 3
   },
   "file_extension": ".py",
   "mimetype": "text/x-python",
   "name": "python",
   "nbconvert_exporter": "python",
   "pygments_lexer": "ipython3",
   "version": "3.7.12"
  },
  "papermill": {
   "default_parameters": {},
   "duration": 99.196585,
   "end_time": "2022-04-16T16:12:12.030362",
   "environment_variables": {},
   "exception": null,
   "input_path": "__notebook__.ipynb",
   "output_path": "__notebook__.ipynb",
   "parameters": {},
   "start_time": "2022-04-16T16:10:32.833777",
   "version": "2.3.3"
  }
 },
 "nbformat": 4,
 "nbformat_minor": 5
}
